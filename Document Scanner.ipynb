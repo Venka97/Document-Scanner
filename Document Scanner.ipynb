{
 "cells": [
  {
   "cell_type": "code",
   "execution_count": 2,
   "metadata": {
    "collapsed": false
   },
   "outputs": [
    {
     "name": "stdout",
     "output_type": "stream",
     "text": [
      "Scanned Image\n"
     ]
    }
   ],
   "source": [
    "import cv2\n",
    "import numpy as np\n",
    "import imutils\n",
    "from imutils import perspective\n",
    "\n",
    "image = cv2.imread(\"C:\\\\Users\\\\Venkatesh\\\\Desktop\\\\mybill.jpg\")\n",
    "#cv2.imshow(\"Bill\",image)\n",
    "image = imutils.resize(image,height = 500)\n",
    "ratio = image.shape[0]/500.0\n",
    "\n",
    "orig = image.copy()\n",
    "gray = cv2.cvtColor(image,cv2.COLOR_BGR2GRAY)\n",
    "blur = cv2.GaussianBlur(gray,(5,5),0)\n",
    "edged = imutils.auto_canny(blur)\n",
    "\n",
    "#cv2.imshow(\"Image\",image)\n",
    "#cv2.imshow(\"Edge\",edged)\n",
    "\n",
    "cnt,ret = cv2.findContours(edged , cv2.RETR_LIST, cv2.CHAIN_APPROX_SIMPLE)\n",
    "cnt = sorted(cnt , key = cv2.contourArea,reverse = True)[:5]\n",
    "\n",
    "for c in cnt:\n",
    "        peri = cv2.arcLength(c,True)\n",
    "        approx = cv2.approxPolyDP(c , 0.02*peri, True)\n",
    "        if len(approx) == 4:\n",
    "            screenCnts = approx\n",
    "            break\n",
    "                         \n",
    "cv2.drawContours(image,[screenCnts],-1,(0,255,0),3)\n",
    "cv2.imshow(\"Contours\",image)\n",
    "\n",
    "warped = perspective.four_point_transform(orig, screenCnts.reshape(4, 2) * ratio)\n",
    " \n",
    "warped = cv2.cvtColor(warped, cv2.COLOR_BGR2GRAY)\n",
    "warped = cv2.adaptiveThreshold(warped,255,cv2.ADAPTIVE_THRESH_GAUSSIAN_C , cv2.THRESH_BINARY,3,5)\n",
    "#warped = warped.astype(\"uint8\") * 255\n",
    " \n",
    "print \"Scanned Image\"\n",
    "#cv2.imshow(\"Original\", imutils.resize(orig, height = 650))\n",
    "cv2.imshow(\"Scanned\", imutils.resize(warped, height = 400))\n",
    "\n",
    "cv2.waitKey()\n",
    "cv2.destroyAllWindows()"
   ]
  }
 ],
 "metadata": {
  "anaconda-cloud": {},
  "kernelspec": {
   "display_name": "Python [conda root]",
   "language": "python",
   "name": "conda-root-py"
  },
  "language_info": {
   "codemirror_mode": {
    "name": "ipython",
    "version": 2
   },
   "file_extension": ".py",
   "mimetype": "text/x-python",
   "name": "python",
   "nbconvert_exporter": "python",
   "pygments_lexer": "ipython2",
   "version": "2.7.12"
  }
 },
 "nbformat": 4,
 "nbformat_minor": 1
}
